{
 "cells": [
  {
   "cell_type": "markdown",
   "id": "4557edf1-5603-49a3-8c82-cf22c3d4cfab",
   "metadata": {},
   "source": [
    "#Epipolar Geometry\n",
    "\n",
    "According to *Wikipedia*, epipolar gerometry can be defined as: \n",
    "<p>\n",
    "\"Epipolar geometry is the geometry of stereo vision. When two cameras view a 3D scene from two distinct positions, there are a number of geometric relations between the 3D points and their projections onto the 2D images that lead to constraints between the image points.\" </br>\n",
    "</p>\n",
    "<p>\n",
    "In short, when recording with data with a single camera we lose an important information: Depth of Field! </br>\n",
    "Using OpenCV and the files obtained with the camera calibration (that contain essential information, such as the __Fundamental__ and the **Essential** matrices)"
   ]
  },
  {
   "cell_type": "code",
   "execution_count": null,
   "id": "d22f0b60-e92d-4d60-b945-70955a5be45a",
   "metadata": {},
   "outputs": [],
   "source": [
    "https://medium.com/@omar.ps16/stereo-3d-reconstruction-with-opencv-using-an-iphone-camera-part-iii-95460d3eddf0"
   ]
  }
 ],
 "metadata": {
  "kernelspec": {
   "display_name": "Python 3 (ipykernel)",
   "language": "python",
   "name": "python3"
  },
  "language_info": {
   "codemirror_mode": {
    "name": "ipython",
    "version": 3
   },
   "file_extension": ".py",
   "mimetype": "text/x-python",
   "name": "python",
   "nbconvert_exporter": "python",
   "pygments_lexer": "ipython3",
   "version": "3.9.7"
  }
 },
 "nbformat": 4,
 "nbformat_minor": 5
}
