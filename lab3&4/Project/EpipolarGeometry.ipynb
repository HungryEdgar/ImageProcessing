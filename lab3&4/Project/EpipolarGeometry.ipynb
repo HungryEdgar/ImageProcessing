{
 "cells": [
  {
   "cell_type": "markdown",
   "id": "4557edf1-5603-49a3-8c82-cf22c3d4cfab",
   "metadata": {},
   "source": [
    "# Epipolar Geometry\n",
    "\n",
    "According to *Wikipedia*, epipolar gerometry can be defined as: \n",
    "<p>\n",
    "\"Epipolar geometry is the geometry of stereo vision. When two cameras view a 3D scene from two distinct positions, there are a number of geometric relations between the 3D points and their projections onto the 2D images that lead to constraints between the image points.\" </br>\n",
    "</p>\n",
    "<p>\n",
    "In short, when recording with data with a single camera we lose an important information: **Depth of Field** ! </br></br>\n",
    "Which brings us to the final part of our project, that is, the creation of a **depth map** . </br>\n",
    "A depth map is simply a picutre where evey pixel has information on it's own depth. Here is an example, that will help clarify the point.\n",
    "\n",
    "![Depth map from the Tsukuba dataset.](depthMap.jpeg)\n",
    "\n",
    "Let's go have some fun!"
   ]
  },
  {
   "cell_type": "markdown",
   "id": "ca49095b-f15b-404a-94f2-f4e755b01301",
   "metadata": {
    "tags": []
   },
   "source": [
    "## Step 1\n",
    "<ol>\n",
    "  <li>Load the camera parameters calculated beforehand.</li>\n",
    "  <li>Specify image paths</li>\n",
    "  <li>Get height and width of the images</li>\n",
    "</ol>\n"
   ]
  },
  {
   "cell_type": "code",
   "execution_count": 1,
   "id": "a83b720c-1294-4859-a68a-e0c0068bbac0",
   "metadata": {},
   "outputs": [],
   "source": [
    "import cv2 as cv\n",
    "import numpy as np \n",
    "import glob\n",
    "from tqdm import tqdm\n",
    "import PIL.ExifTags\n",
    "import PIL.Image\n",
    "from matplotlib import pyplot as plt"
   ]
  },
  {
   "cell_type": "markdown",
   "id": "2bdd3878-7656-48c1-a32f-c442e3f179a1",
   "metadata": {},
   "source": [
    "#### Camera parameters"
   ]
  },
  {
   "cell_type": "code",
   "execution_count": 2,
   "id": "6f5d998f-a350-4fa2-98c5-4e2154c4e712",
   "metadata": {},
   "outputs": [],
   "source": [
    "ret = np.load(r'C:\\Users\\edgar\\Desktop\\Github\\ImageProcessing\\lab3&4\\cameraParams\\ret.npy')\n",
    "mtx = np.load(r'C:\\Users\\edgar\\Desktop\\Github\\ImageProcessing\\lab3&4\\cameraParams\\mtx.npy')\n",
    "dist = np.load(r'C:\\Users\\edgar\\Desktop\\Github\\ImageProcessing\\lab3&4\\cameraParams\\dist.npy')"
   ]
  },
  {
   "cell_type": "markdown",
   "id": "4a782b01-c2c1-4989-934c-3df9dca2557a",
   "metadata": {},
   "source": [
    "#### Loading images\n",
    "The images need to be imported and be transformed by OpenCV."
   ]
  },
  {
   "cell_type": "code",
   "execution_count": 3,
   "id": "e2d117d6-0954-45d0-a0fd-6c63351a97b8",
   "metadata": {},
   "outputs": [],
   "source": [
    "imgLeft_r = sorted(glob.glob(r'C:\\Users\\edgar\\Desktop\\Github\\ImageProcessing\\lab3&4\\scanLeft\\*.png'))\n",
    "imgRight_r = sorted(glob.glob(r'C:\\Users\\edgar\\Desktop\\Github\\ImageProcessing\\lab3&4\\scanRight\\*.png'))\n",
    "\n",
    "\n",
    "imgLeft = []\n",
    "imgRight = []\n",
    "\n",
    "\n",
    "for i in imgLeft_r:\n",
    "    img = cv.imread(i)\n",
    "    imgLeft.append(img)\n",
    "    \n",
    "for i in imgRight_r:\n",
    "    img = cv.imread(i)\n",
    "    imgRight.append(img)"
   ]
  },
  {
   "cell_type": "markdown",
   "id": "26e4b242-ecd0-4013-9ae4-f528600605b3",
   "metadata": {},
   "source": [
    "#### Image dimensions\n",
    "Before we continue, we need to get the dimensions of the images. Fortunatly enough, they all have the same dimensions."
   ]
  },
  {
   "cell_type": "code",
   "execution_count": 4,
   "id": "645727ab-23ec-4f1e-bc66-6d593011e82e",
   "metadata": {},
   "outputs": [],
   "source": [
    "image = cv.imread(imgLeft_r[1]) \n",
    "\n",
    "h,w = image.shape[:2] #h = height, w = width"
   ]
  },
  {
   "cell_type": "markdown",
   "id": "29387bff-63de-4f1d-878b-2f17dc300943",
   "metadata": {},
   "source": [
    "## Step 2\n",
    "\n",
    "<ol>\n",
    "  <li>Calculate optimal camera matrix based on free scaling parameter.</li>\n",
    "  <li>Undistort images</li>\n",
    "  <li>Downsample each image</li>\n",
    "</ol>\n",
    "\n",
    "#### Optimal camera matrix"
   ]
  },
  {
   "cell_type": "code",
   "execution_count": 5,
   "id": "af372a9e-40a2-4017-8cf6-71540cbeee02",
   "metadata": {},
   "outputs": [],
   "source": [
    "new_camera_matrix, roi = cv.getOptimalNewCameraMatrix(mtx,dist,(w,h),1,(w,h))"
   ]
  },
  {
   "cell_type": "markdown",
   "id": "36559515-6969-4ef9-87b2-2c8fc06f976a",
   "metadata": {},
   "source": [
    "#### Undistort images\n",
    "Using the camera parameters we gathered from the _CameraCalibration_ we can proceed to undistort the images."
   ]
  },
  {
   "cell_type": "code",
   "execution_count": 6,
   "id": "265bcc1e-06d8-4b52-9a2b-deaeb7b26da5",
   "metadata": {},
   "outputs": [],
   "source": [
    "unImgLeft = []\n",
    "unImgRight = []\n",
    "\n",
    "array_imgLeft = np.array(imgLeft)\n",
    "array_imgRight = np.array(imgRight)\n",
    "\n",
    "for i in range(len(imgLeft)):\n",
    "    imgLeft_undistorted = cv.undistort(imgLeft[i], mtx, dist, None, new_camera_matrix)\n",
    "    unImgLeft.append(imgLeft_undistorted)\n",
    "for i in range(len(imgRight)):\n",
    "    imgRight_undistorted = cv.undistort(imgRight[i], mtx, dist, None, new_camera_matrix)\n",
    "    unImgRight.append(imgRight_undistorted)"
   ]
  },
  {
   "cell_type": "markdown",
   "id": "897450cf-b36d-4c56-8536-90074e33f453",
   "metadata": {},
   "source": [
    "#### Downsampling images\n",
    "Given that we have big image dimensions, we will downsample each image in order to limit processing power required to run the algorithm, the sacrifice being some degree of accuracy of our depth map."
   ]
  },
  {
   "cell_type": "code",
   "execution_count": 7,
   "id": "7e5c5c21-2b37-4300-9752-56a3c168019e",
   "metadata": {},
   "outputs": [],
   "source": [
    "def downsample_image(image, reduce_factor):\n",
    "    for i in range(0,reduce_factor):\n",
    "        #Check if image is color or grayscale\n",
    "        if len(image.shape) > 2:\n",
    "            row,col = image.shape[:2]\n",
    "        else:\n",
    "            row,col = image.shape\n",
    "\n",
    "        image = cv.pyrDown(image, dstsize= (col//2, row // 2))\n",
    "    return image"
   ]
  },
  {
   "cell_type": "code",
   "execution_count": 8,
   "id": "1ae9eb23-c6eb-47d0-82f7-9231f26bf936",
   "metadata": {},
   "outputs": [],
   "source": [
    "#Downsample each image 3 times (because they're too big)\n",
    "unImgLeft_ds = []\n",
    "unImgRight_ds = []\n",
    "\n",
    "for i in range(len(unImgLeft)):\n",
    "    ImgLeft_ds = downsample_image(unImgLeft[i],3)\n",
    "    unImgLeft_ds.append(ImgLeft_ds)\n",
    "for i in range(len(unImgRight)):\n",
    "    ImgRight_ds = downsample_image(unImgRight[i],3)\n",
    "    unImgRight_ds.append(ImgRight_ds)\n"
   ]
  },
  {
   "cell_type": "markdown",
   "id": "c2482a0d-d604-4d75-aa0c-f19225ad2881",
   "metadata": {},
   "source": [
    "## Step 3\n",
    "<ol>\n",
    "  <li>Set disparity parameters</li>\n",
    "  <li>Compute disparity map</li>\n",
    "  <li>Show disparity map before generating 3D cloud to verify that point</li>\n",
    "</ol>\n",
    "\n",
    "#### Set disparity parameters"
   ]
  },
  {
   "cell_type": "code",
   "execution_count": 9,
   "id": "2b57d7a7-93ee-4837-94d9-b849240c3126",
   "metadata": {},
   "outputs": [],
   "source": [
    "#Note: disparity range is tuned according to specific parameters obtained through trial and error. \n",
    "win_size = 5\n",
    "min_disp = -1\n",
    "max_disp = 63 #min_disp * 9\n",
    "num_disp = max_disp - min_disp # Needs to be divisible by 16"
   ]
  },
  {
   "cell_type": "markdown",
   "id": "bbba4c8d-8ac4-4678-ad61-709d6e934ada",
   "metadata": {},
   "source": [
    "#### Create Block matching object"
   ]
  },
  {
   "cell_type": "code",
   "execution_count": 10,
   "id": "b3cb1395-f682-45eb-a960-06708c7873d4",
   "metadata": {},
   "outputs": [],
   "source": [
    "stereo = cv.StereoSGBM_create(minDisparity= min_disp,\n",
    " numDisparities = num_disp,\n",
    " blockSize = 5,\n",
    " uniquenessRatio = 5,\n",
    " speckleWindowSize = 5,\n",
    " speckleRange = 5,\n",
    " disp12MaxDiff = 1,\n",
    " P1 = 8*3*win_size**2,#8*3*win_size**2,\n",
    " P2 =32*3*win_size**2) #32*3*win_size**2)"
   ]
  },
  {
   "cell_type": "markdown",
   "id": "9d8d809c-e8cb-4ffa-87b1-bf3cc1f3d3a2",
   "metadata": {},
   "source": [
    "#### Compute disparity map"
   ]
  },
  {
   "cell_type": "code",
   "execution_count": 11,
   "id": "73983ee7-7ad5-4396-aa98-4beb90b813b4",
   "metadata": {},
   "outputs": [],
   "source": [
    "for i in range(len(imgLeft)):\n",
    "    for j in range(len(imgRight)):\n",
    "        disparity = stereo.compute(imgLeft[i],imgRight[j])\n",
    "        \n",
    "disparity_map = disparity.astype(np.float32)\n",
    "\n",
    "minDisparity = 0\n",
    "numDisparities = 8\n",
    "\n",
    "disparity = (disparity_map/16.0 - minDisparity)/numDisparities"
   ]
  },
  {
   "cell_type": "code",
   "execution_count": 12,
   "id": "2e7b7e00-83c7-40f4-a8d6-2e20c6614748",
   "metadata": {},
   "outputs": [
    {
     "data": {
      "image/png": "[encoded data removed]",
      "text/plain": [
       "<Figure size 432x288 with 1 Axes>"
      ]
     },
     "metadata": {
      "needs_background": "light"
     },
     "output_type": "display_data"
    }
   ],
   "source": [
    "#Show disparity map before generating 3D cloud to verify that point cloud will be usable. \n",
    "plt.imshow(disparity,'gray')\n",
    "plt.show()"
   ]
  },
  {
   "cell_type": "code",
   "execution_count": 13,
   "id": "a2f8437e-8447-4afa-99c5-8f022fb30a6b",
   "metadata": {},
   "outputs": [
    {
     "name": "stdout",
     "output_type": "stream",
     "text": [
      "\n",
      "Generating the 3D map...\n"
     ]
    },
    {
     "ename": "ValueError",
     "evalue": "setting an array element with a sequence. The requested array has an inhomogeneous shape after 2 dimensions. The detected shape was (4, 4) + inhomogeneous part.",
     "output_type": "error",
     "traceback": [
      "\u001b[1;31m---------------------------------------------------------------------------\u001b[0m",
      "\u001b[1;31mValueError\u001b[0m                                Traceback (most recent call last)",
      "Input \u001b[1;32mIn [13]\u001b[0m, in \u001b[0;36m<cell line: 12>\u001b[1;34m()\u001b[0m\n\u001b[0;32m      8\u001b[0m focal_length \u001b[38;5;241m=\u001b[39m np\u001b[38;5;241m.\u001b[39mload(\u001b[38;5;124mr\u001b[39m\u001b[38;5;124m'\u001b[39m\u001b[38;5;124mC:\u001b[39m\u001b[38;5;124m\\\u001b[39m\u001b[38;5;124mUsers\u001b[39m\u001b[38;5;124m\\\u001b[39m\u001b[38;5;124medgar\u001b[39m\u001b[38;5;124m\\\u001b[39m\u001b[38;5;124mDesktop\u001b[39m\u001b[38;5;124m\\\u001b[39m\u001b[38;5;124mGithub\u001b[39m\u001b[38;5;124m\\\u001b[39m\u001b[38;5;124mImageProcessing\u001b[39m\u001b[38;5;124m\\\u001b[39m\u001b[38;5;124mlab3&4\u001b[39m\u001b[38;5;124m\\\u001b[39m\u001b[38;5;124mcameraParams\u001b[39m\u001b[38;5;124m\\\u001b[39m\u001b[38;5;124mtvecs.npy\u001b[39m\u001b[38;5;124m'\u001b[39m)\n\u001b[0;32m     10\u001b[0m \u001b[38;5;66;03m#Perspective transformation matrix\u001b[39;00m\n\u001b[0;32m     11\u001b[0m \u001b[38;5;66;03m#This transformation matrix is from the openCV documentation, didn't seem to work for me. \u001b[39;00m\n\u001b[1;32m---> 12\u001b[0m Q \u001b[38;5;241m=\u001b[39m \u001b[43mnp\u001b[49m\u001b[38;5;241;43m.\u001b[39;49m\u001b[43mfloat32\u001b[49m\u001b[43m(\u001b[49m\u001b[43m[\u001b[49m\u001b[43m[\u001b[49m\u001b[38;5;241;43m1\u001b[39;49m\u001b[43m,\u001b[49m\u001b[38;5;241;43m0\u001b[39;49m\u001b[43m,\u001b[49m\u001b[38;5;241;43m0\u001b[39;49m\u001b[43m,\u001b[49m\u001b[38;5;241;43m-\u001b[39;49m\u001b[43mw\u001b[49m\u001b[38;5;241;43m/\u001b[39;49m\u001b[38;5;241;43m2.0\u001b[39;49m\u001b[43m]\u001b[49m\u001b[43m,\u001b[49m\n\u001b[0;32m     13\u001b[0m \u001b[43m    \u001b[49m\u001b[43m[\u001b[49m\u001b[38;5;241;43m0\u001b[39;49m\u001b[43m,\u001b[49m\u001b[38;5;241;43m-\u001b[39;49m\u001b[38;5;241;43m1\u001b[39;49m\u001b[43m,\u001b[49m\u001b[38;5;241;43m0\u001b[39;49m\u001b[43m,\u001b[49m\u001b[43mh\u001b[49m\u001b[38;5;241;43m/\u001b[39;49m\u001b[38;5;241;43m2.0\u001b[39;49m\u001b[43m]\u001b[49m\u001b[43m,\u001b[49m\n\u001b[0;32m     14\u001b[0m \u001b[43m    \u001b[49m\u001b[43m[\u001b[49m\u001b[38;5;241;43m0\u001b[39;49m\u001b[43m,\u001b[49m\u001b[38;5;241;43m0\u001b[39;49m\u001b[43m,\u001b[49m\u001b[38;5;241;43m0\u001b[39;49m\u001b[43m,\u001b[49m\u001b[38;5;241;43m-\u001b[39;49m\u001b[43mfocal_length\u001b[49m\u001b[43m]\u001b[49m\u001b[43m,\u001b[49m\n\u001b[0;32m     15\u001b[0m \u001b[43m    \u001b[49m\u001b[43m[\u001b[49m\u001b[38;5;241;43m0\u001b[39;49m\u001b[43m,\u001b[49m\u001b[38;5;241;43m0\u001b[39;49m\u001b[43m,\u001b[49m\u001b[38;5;241;43m1\u001b[39;49m\u001b[43m,\u001b[49m\u001b[38;5;241;43m0\u001b[39;49m\u001b[43m]\u001b[49m\u001b[43m]\u001b[49m\u001b[43m)\u001b[49m\n\u001b[0;32m     17\u001b[0m \u001b[38;5;66;03m#This transformation matrix is derived from Prof. Didier Stricker's power point presentation on computer vision. \u001b[39;00m\n\u001b[0;32m     18\u001b[0m \u001b[38;5;66;03m#Link : https://ags.cs.uni-kl.de/fileadmin/inf_ags/3dcv-ws14-15/3DCV_lec01_camera.pdf\u001b[39;00m\n\u001b[0;32m     19\u001b[0m Q2 \u001b[38;5;241m=\u001b[39m np\u001b[38;5;241m.\u001b[39mfloat32([[\u001b[38;5;241m1\u001b[39m,\u001b[38;5;241m0\u001b[39m,\u001b[38;5;241m0\u001b[39m,\u001b[38;5;241m0\u001b[39m],\n\u001b[0;32m     20\u001b[0m     [\u001b[38;5;241m0\u001b[39m,\u001b[38;5;241m-\u001b[39m\u001b[38;5;241m1\u001b[39m,\u001b[38;5;241m0\u001b[39m,\u001b[38;5;241m0\u001b[39m],\n\u001b[0;32m     21\u001b[0m     [\u001b[38;5;241m0\u001b[39m,\u001b[38;5;241m0\u001b[39m,focal_length\u001b[38;5;241m*\u001b[39m\u001b[38;5;241m0.05\u001b[39m,\u001b[38;5;241m0\u001b[39m], \u001b[38;5;66;03m#Focal length multiplication obtained experimentally. \u001b[39;00m\n\u001b[0;32m     22\u001b[0m     [\u001b[38;5;241m0\u001b[39m,\u001b[38;5;241m0\u001b[39m,\u001b[38;5;241m0\u001b[39m,\u001b[38;5;241m1\u001b[39m]])\n",
      "\u001b[1;31mValueError\u001b[0m: setting an array element with a sequence. The requested array has an inhomogeneous shape after 2 dimensions. The detected shape was (4, 4) + inhomogeneous part."
     ]
    }
   ],
   "source": [
    "#Generate  point cloud. \n",
    "print (\"\\nGenerating the 3D map...\")\n",
    "\n",
    "#Get new downsampled width and height \n",
    "h,w = unImgRight[0].shape[:2]\n",
    "\n",
    "#Load focal length. \n",
    "focal_length = np.load(r'C:\\Users\\edgar\\Desktop\\Github\\ImageProcessing\\lab3&4\\cameraParams\\tvecs.npy')\n",
    "\n",
    "#Perspective transformation matrix\n",
    "#This transformation matrix is from the openCV documentation, didn't seem to work for me. \n",
    "Q = np.float32([[1,0,0,-w/2.0],\n",
    "    [0,-1,0,h/2.0],\n",
    "    [0,0,0,-focal_length],\n",
    "    [0,0,1,0]])\n",
    "\n",
    "#This transformation matrix is derived from Prof. Didier Stricker's power point presentation on computer vision. \n",
    "#Link : https://ags.cs.uni-kl.de/fileadmin/inf_ags/3dcv-ws14-15/3DCV_lec01_camera.pdf\n",
    "Q2 = np.float32([[1,0,0,0],\n",
    "    [0,-1,0,0],\n",
    "    [0,0,focal_length*0.05,0], #Focal length multiplication obtained experimentally. \n",
    "    [0,0,0,1]])\n",
    "\n",
    "#Reproject points into 3D\n",
    "points_3D = cv2.reprojectImageTo3D(disparity_map, Q2)\n",
    "\n",
    "#Get color points\n",
    "colors = cv2.cvtColor(img_1_downsampled, cv2.COLOR_BGR2RGB)\n",
    "\n",
    "#Get rid of points with value 0 (i.e no depth)\n",
    "mask_map = disparity_map > disparity_map.min()\n",
    "\n",
    "#Mask colors and points. \n",
    "output_points = points_3D[mask_map]\n",
    "output_colors = colors[mask_map]\n",
    "\n",
    "#Define name for output file\n",
    "output_file = 'reconstructed.ply'\n",
    "\n",
    "#Generate point cloud \n",
    "print (\"\\n Creating the output file... \\n\")\n",
    "create_output(output_points, output_colors, output_file)"
   ]
  },
  {
   "cell_type": "code",
   "execution_count": null,
   "id": "24062c14-bf18-46cf-8ebe-adc1cb30db48",
   "metadata": {},
   "outputs": [],
   "source": []
  }
 ],
 "metadata": {
  "kernelspec": {
   "display_name": "Python 3 (ipykernel)",
   "language": "python",
   "name": "python3"
  },
  "language_info": {
   "codemirror_mode": {
    "name": "ipython",
    "version": 3
   },
   "file_extension": ".py",
   "mimetype": "text/x-python",
   "name": "python",
   "nbconvert_exporter": "python",
   "pygments_lexer": "ipython3",
   "version": "3.9.12"
  }
 },
 "nbformat": 4,
 "nbformat_minor": 5
}
