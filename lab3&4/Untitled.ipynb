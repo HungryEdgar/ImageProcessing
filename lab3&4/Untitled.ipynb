{
 "cells": [
  {
   "cell_type": "code",
   "execution_count": null,
   "id": "e2dedb01-9c2e-44f4-9649-3d91983df2e1",
   "metadata": {},
   "outputs": [],
   "source": [
    "import cv2 as cv\n",
    "import numpy as np \n",
    "import glob\n",
    "from tqdm import tqdm\n",
    "import PIL.ExifTags\n",
    "import PIL.Image\n",
    "from matplotlib import pyplot as plt\n",
    "\n",
    "imgLeft_r = sorted(glob.glob(r'C:\\Users\\edgar\\Desktop\\Github\\ImageProcessing\\lab3&4\\scanLeft\\*.png'))\n",
    "imgRight_r = sorted(glob.glob(r'C:\\Users\\edgar\\Desktop\\Github\\ImageProcessing\\lab3&4\\scanRight\\*.png'))\n",
    "\n",
    "\n",
    "imgLeft = []\n",
    "imgRight = []\n",
    "\n",
    "\n",
    "\n",
    "for i in imgLeft_r:\n",
    "    img = cv.imread(i)\n",
    "    imgGray = cv.cvtColor(img, cv.COLOR_BGR2GRAY)\n",
    "    imgLeft.append(imgGray)\n",
    "    \n",
    "for i in imgRight_r:\n",
    "    img = cv.imread(i)\n",
    "    imgGray = cv.cvtColor(img, cv.COLOR_BGR2GRAY)\n",
    "    imgRight.append(imgGray)\n",
    "\n",
    "for i in range(len(imgLeft)):\n",
    "    for j in range(len(imgRight)):\n",
    "        disparity = stereo.compute(imgLeft[i],imgRight[j])\n",
    "        \n",
    "#imgL = cv.imread(imgLeft,0)\n",
    "#imgR = cv.imread(imgRight,0)\n",
    "\n",
    "stereo = cv.StereoBM_create(numDisparities=160, blockSize=15)\n",
    "#disparity = stereo.compute(imgL,imgR)\n",
    "plt.imshow(disparity,'gray')\n",
    "plt.show()"
   ]
  }
 ],
 "metadata": {
  "kernelspec": {
   "display_name": "Python 3 (ipykernel)",
   "language": "python",
   "name": "python3"
  },
  "language_info": {
   "codemirror_mode": {
    "name": "ipython",
    "version": 3
   },
   "file_extension": ".py",
   "mimetype": "text/x-python",
   "name": "python",
   "nbconvert_exporter": "python",
   "pygments_lexer": "ipython3",
   "version": "3.9.12"
  }
 },
 "nbformat": 4,
 "nbformat_minor": 5
}
