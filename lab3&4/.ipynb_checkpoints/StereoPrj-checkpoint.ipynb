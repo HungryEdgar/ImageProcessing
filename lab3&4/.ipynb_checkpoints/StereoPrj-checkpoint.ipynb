{
 "cells": [
  {
   "cell_type": "markdown",
   "id": "5b2d5e7b-98a2-4bde-bffd-f87ebef4ab23",
   "metadata": {},
   "source": [
    "# Stereovision\n",
    "\n",
    "As stated in the instructions, this project will focus on reconstructing a 3D body using 2D pictures of said body. "
   ]
  },
  {
   "cell_type": "markdown",
   "id": "b78389fa-0d2c-4c61-b5fa-036f71ce5cc4",
   "metadata": {},
   "source": [
    "## Camera Calibration\n",
    "\n",
    "Before we can gather any information from whatever picture, we ought to obtain the parameters of our sensor(s). Which in this case is the camera. \n",
    "<br/> Therefore, we'll start with the camera calibration using the _chessboard_ provided at the beggining of the assignment.\n",
    "<br/>\n",
    "In short, camera calibration is estimating the parameters of a camera i.e. the relationship between a 3D point in the real world and its corresponding 2D projection (pixel) in the image captured by that calibrated camera\n",
    "<br/>\n",
    "<br/>\n",
    "### Step 1\n",
    "For starters we'll need to find the _chessboard_ corners and the image points from all the images:"
   ]
  },
  {
   "cell_type": "code",
   "execution_count": 33,
   "id": "278d10da-9ac2-41d8-b92a-d55842438457",
   "metadata": {},
   "outputs": [],
   "source": [
    "import numpy as np\n",
    "import cv2 as cv\n",
    "import glob\n",
    "\n",
    "#chessboard dimensions\n",
    "chessboardSize = (7, 7)\n",
    "frameSize = (1920, 1080)\n",
    "\n",
    "############# Termination criteria #####################\n",
    "#TERM_CRITERIA_EPS = stop the algorithm iteration if specified accuracy, epsilon, is reached\n",
    "#TERM_CRITERIA_MAX_ITER = stop the algorithm after the specified number of iterations, max_iter\n",
    "\n",
    "criteria = (cv.TERM_CRITERIA_EPS + cv.TERM_CRITERIA_MAX_ITER, 30, 0.001)\n",
    "\n",
    "# prepare object points, like (0,0,0), (1,0,0), (2,0,0) ....,(6,5,0)\n",
    "objp = np.zeros((chessboardSize[0] * chessboardSize[1], 3), np.float32)\n",
    "objp[:,:2] = np.mgrid[0:chessboardSize[0],0:chessboardSize[1]].T.reshape(-1,2)\n",
    "\n",
    "######################IMPORTANT QUESTION: need to know distance in mm from one square to another\n",
    "size_of_chessboard_squares_mm = 15\n",
    "objp = objp * size_of_chessboard_squares_mm\n",
    "\n",
    "# Arrays to store object points and image points from all the images.\n",
    "objpoints = [] # 3d point in real world space\n",
    "imgpointsL = [] # 2d points in image plane.\n",
    "imgpointsR = [] # 2d points in image plane.\n",
    "\n",
    "imagesLeft = sorted(glob.glob(r'C:\\Users\\edgar\\Desktop\\Github\\ImageProcessing\\lab3&4\\chessboards\\Left\\*.png'))\n",
    "imagesRight = sorted(glob.glob(r'C:\\Users\\edgar\\Desktop\\Github\\ImageProcessing\\lab3&4\\chessboards\\Right\\*.png'))\n",
    "\n",
    "\n",
    "for imgLeft, imgRight in zip(imagesLeft, imagesRight):\n",
    "\n",
    "    imgL = cv.imread(imgLeft)\n",
    "    imgR = cv.imread(imgRight)\n",
    "    grayL = cv.cvtColor(imgL, cv.COLOR_BGR2GRAY)\n",
    "    grayR = cv.cvtColor(imgR, cv.COLOR_BGR2GRAY)\n",
    "\n",
    "    # Find the chess board corners\n",
    "    retL, cornersL = cv.findChessboardCorners(grayL, chessboardSize, None)\n",
    "    retR, cornersR = cv.findChessboardCorners(grayR, chessboardSize, None)\n",
    "    \n",
    "    \n",
    "    # If found, add object points, image points (after refining them)\n",
    "    if retL and retR == True:\n",
    "\n",
    "        objpoints.append(objp)\n",
    "\n",
    "        cornersL = cv.cornerSubPix(grayL, cornersL, (11,11), (-1,-1), criteria)\n",
    "        imgpointsL.append(cornersL)\n",
    "\n",
    "        cornersR = cv.cornerSubPix(grayR, cornersR, (11,11), (-1,-1), criteria)\n",
    "        imgpointsR.append(cornersR)\n",
    "\n",
    "\n",
    "        # Draw and display the corners\n",
    "        cv.drawChessboardCorners(imgL, chessboardSize, cornersL, retL)\n",
    "        cv.imshow('img left', imgL)\n",
    "        cv.drawChessboardCorners(imgR, chessboardSize, cornersR, retR)\n",
    "        cv.imshow('img right', imgR)\n",
    "        cv.waitKey(1000)\n",
    "\n",
    "cv.destroyAllWindows()"
   ]
  },
  {
   "cell_type": "code",
   "execution_count": null,
   "id": "13913972-5039-400e-95e8-97fa1871122f",
   "metadata": {},
   "outputs": [],
   "source": []
  }
 ],
 "metadata": {
  "kernelspec": {
   "display_name": "Python 3 (ipykernel)",
   "language": "python",
   "name": "python3"
  },
  "language_info": {
   "codemirror_mode": {
    "name": "ipython",
    "version": 3
   },
   "file_extension": ".py",
   "mimetype": "text/x-python",
   "name": "python",
   "nbconvert_exporter": "python",
   "pygments_lexer": "ipython3",
   "version": "3.9.12"
  }
 },
 "nbformat": 4,
 "nbformat_minor": 5
}
