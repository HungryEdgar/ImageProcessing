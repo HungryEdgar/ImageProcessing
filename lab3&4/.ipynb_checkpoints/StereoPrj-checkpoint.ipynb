{
 "cells": [
  {
   "cell_type": "markdown",
   "id": "5b2d5e7b-98a2-4bde-bffd-f87ebef4ab23",
   "metadata": {},
   "source": [
    "# Stereovision\n",
    "\n",
    "As stated in the instructions, this project will focus on reconstructing a 3D body using 2D pictures of said body. "
   ]
  },
  {
   "cell_type": "markdown",
   "id": "b78389fa-0d2c-4c61-b5fa-036f71ce5cc4",
   "metadata": {},
   "source": [
    "## Camera Calibration\n",
    "\n",
    "Before we can gather any information from whatever picture, we ought to obtain the parameters of our sensor(s). Which in this case is the camera. \n",
    "<br> Therefore, we'll start with the camera calibration using the _chessboard_ provided at the beggining of the assignment.\n",
    "<br>\n",
    "In short, camera calibration is estimating the parameters of a camera i.e. the relationship between a 3D point in the real world and its corresponding 2D projection (pixel) in the image captured by that calibrated camera"
   ]
  },
  {
   "cell_type": "code",
   "execution_count": null,
   "id": "278d10da-9ac2-41d8-b92a-d55842438457",
   "metadata": {},
   "outputs": [],
   "source": []
  }
 ],
 "metadata": {
  "kernelspec": {
   "display_name": "Python 3 (ipykernel)",
   "language": "python",
   "name": "python3"
  },
  "language_info": {
   "codemirror_mode": {
    "name": "ipython",
    "version": 3
   },
   "file_extension": ".py",
   "mimetype": "text/x-python",
   "name": "python",
   "nbconvert_exporter": "python",
   "pygments_lexer": "ipython3",
   "version": "3.9.7"
  }
 },
 "nbformat": 4,
 "nbformat_minor": 5
}
